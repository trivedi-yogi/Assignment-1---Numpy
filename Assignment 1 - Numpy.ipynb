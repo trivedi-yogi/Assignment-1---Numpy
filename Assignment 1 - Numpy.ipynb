{
 "cells": [
  {
   "cell_type": "markdown",
   "id": "6b088b00",
   "metadata": {},
   "source": [
    "# Assignment 1 - Numpy"
   ]
  },
  {
   "cell_type": "code",
   "execution_count": 7,
   "id": "559f5ac6",
   "metadata": {},
   "outputs": [
    {
     "name": "stdout",
     "output_type": "stream",
     "text": [
      "[0 0 0 0 1 0 0 0 0 0]\n"
     ]
    }
   ],
   "source": [
    "#1. Create a null vector of size 10 but the fifth value which is 1.\n",
    "import numpy as np\n",
    "vector = (np.arange(10) == 4).astype(int)\n",
    "print(vector)"
   ]
  },
  {
   "cell_type": "code",
   "execution_count": 2,
   "id": "6bc4d1da",
   "metadata": {},
   "outputs": [
    {
     "name": "stdout",
     "output_type": "stream",
     "text": [
      "[10 11 12 13 14 15 16 17 18 19 20 21 22 23 24 25 26 27 28 29 30 31 32 33\n",
      " 34 35 36 37 38 39 40 41 42 43 44 45 46 47 48 49]\n"
     ]
    }
   ],
   "source": [
    "#2. Create a vector with values ranging from 10 to 49.\n",
    "vector2 = np.arange(10,50)\n",
    "print(vector2)"
   ]
  },
  {
   "cell_type": "code",
   "execution_count": 26,
   "id": "55b188cb",
   "metadata": {},
   "outputs": [
    {
     "name": "stdout",
     "output_type": "stream",
     "text": [
      "[[0 1 2]\n",
      " [3 4 5]\n",
      " [6 7 8]]\n"
     ]
    }
   ],
   "source": [
    "#3. Create a 3x3 matrix with values ranging from 0 to 8\n",
    "vector3 = np.arange(9).reshape(3,3)\n",
    "print(vector3)"
   ]
  },
  {
   "cell_type": "code",
   "execution_count": 27,
   "id": "49065ce1",
   "metadata": {},
   "outputs": [
    {
     "name": "stdout",
     "output_type": "stream",
     "text": [
      "(array([0, 1, 4], dtype=int64),)\n"
     ]
    }
   ],
   "source": [
    "#4. Find indices of non-zero elements from [1,2,0,0,4,0]\n",
    "ary = np.nonzero([1,2,0,0,4,0])\n",
    "print(ary)"
   ]
  },
  {
   "cell_type": "code",
   "execution_count": 32,
   "id": "895b6d84",
   "metadata": {},
   "outputs": [
    {
     "name": "stdout",
     "output_type": "stream",
     "text": [
      "[[6.70010089e-01 5.84440767e-01 4.10024995e-01 7.80948212e-01\n",
      "  1.48732788e-01 2.19785755e-01 4.39157044e-01 7.13586306e-01\n",
      "  5.70983810e-01 7.96404392e-01]\n",
      " [6.18508355e-02 6.67341718e-01 1.98456111e-01 3.12088455e-01\n",
      "  7.60304973e-01 5.12186914e-01 3.40477885e-01 2.73156641e-01\n",
      "  4.36988619e-01 6.81284868e-04]\n",
      " [8.45795118e-01 9.99762495e-01 9.57201066e-01 9.80126697e-01\n",
      "  7.91361570e-01 4.60102423e-01 8.03871514e-01 9.13500906e-01\n",
      "  8.43679051e-01 9.61042982e-01]\n",
      " [3.15406326e-01 8.61643210e-01 5.33444124e-01 5.03805076e-02\n",
      "  6.83655565e-02 7.36396712e-01 1.21626569e-01 1.11488640e-01\n",
      "  4.97353376e-01 3.52669092e-03]\n",
      " [6.83775402e-01 4.74089200e-01 4.42614334e-01 4.59760244e-01\n",
      "  5.63825063e-01 6.26329734e-01 9.29927815e-02 2.23467262e-01\n",
      "  6.32751296e-01 8.43240934e-01]\n",
      " [7.18823785e-01 1.80671777e-01 6.07116369e-02 1.68638422e-01\n",
      "  6.67819956e-01 8.90758594e-01 9.34049837e-01 6.13295618e-01\n",
      "  5.94297870e-01 4.26564149e-01]\n",
      " [3.92933556e-01 5.19605144e-02 9.93319311e-01 8.62234018e-01\n",
      "  5.78960602e-01 7.52882819e-01 1.22900004e-01 1.50035102e-01\n",
      "  4.08520376e-01 4.32566414e-01]\n",
      " [5.32558719e-01 8.20644196e-01 4.23189282e-01 9.92980790e-01\n",
      "  8.64203010e-01 3.84338861e-01 8.48633259e-02 1.47902776e-01\n",
      "  3.85086329e-01 1.94437599e-01]\n",
      " [2.25888802e-01 1.96838206e-02 9.90600991e-02 2.94170812e-01\n",
      "  3.11186005e-01 1.85359716e-01 2.30012315e-01 2.08874258e-01\n",
      "  8.46840602e-01 6.95620048e-01]\n",
      " [6.37779551e-02 9.83728794e-01 5.47495005e-02 5.16137914e-01\n",
      "  1.22957738e-01 5.75096845e-01 1.72497872e-01 2.13350205e-01\n",
      "  4.97184595e-01 7.15720461e-02]]\n",
      "Maximum value:  0.9997624946980783\n",
      "Minimum value:  0.0006812848683900308\n"
     ]
    }
   ],
   "source": [
    "#5. Create a 10x10 array with random values and find the minimum and maximum values.\n",
    "ary1 = np.random.random((10,10))\n",
    "print(ary1)\n",
    "print(\"Maximum value: \", ary1.max())\n",
    "print(\"Minimum value: \", ary1.min())"
   ]
  },
  {
   "cell_type": "code",
   "execution_count": 30,
   "id": "f549f1bf",
   "metadata": {},
   "outputs": [
    {
     "name": "stdout",
     "output_type": "stream",
     "text": [
      "[0.11804985 0.63876927 0.7157665  0.92134368 0.42014557 0.65167842\n",
      " 0.27026878 0.22790591 0.68115227 0.49519532 0.11240736 0.70566575\n",
      " 0.97674648 0.23528369 0.5241824  0.5651007  0.60011186 0.53953821\n",
      " 0.27187951 0.08937604 0.00319569 0.35386038 0.47061349 0.04377897\n",
      " 0.52634164 0.61608396 0.216838   0.02491343 0.48587634 0.89734547]\n",
      "Mean:  0.4466471641304654\n"
     ]
    }
   ],
   "source": [
    "#6. Create a random vector of size 30 and find the mean value.\n",
    "ary2 = np.random.random(30)\n",
    "print(ary2)\n",
    "print(\"Mean: \",ary2.mean())"
   ]
  }
 ],
 "metadata": {
  "kernelspec": {
   "display_name": "Python 3 (ipykernel)",
   "language": "python",
   "name": "python3"
  },
  "language_info": {
   "codemirror_mode": {
    "name": "ipython",
    "version": 3
   },
   "file_extension": ".py",
   "mimetype": "text/x-python",
   "name": "python",
   "nbconvert_exporter": "python",
   "pygments_lexer": "ipython3",
   "version": "3.9.7"
  }
 },
 "nbformat": 4,
 "nbformat_minor": 5
}
